{
  "nbformat": 4,
  "nbformat_minor": 0,
  "metadata": {
    "colab": {
      "provenance": [],
      "include_colab_link": true
    },
    "kernelspec": {
      "name": "python3",
      "display_name": "Python 3"
    }
  },
  "cells": [
    {
      "cell_type": "markdown",
      "metadata": {
        "id": "view-in-github",
        "colab_type": "text"
      },
      "source": [
        "<a href=\"https://colab.research.google.com/github/rabrn/meus_projetos/blob/main/Churn_Prediction_para_uma_empresa_de_Telecomunica%C3%A7%C3%B5es.ipynb\" target=\"_parent\"><img src=\"https://colab.research.google.com/assets/colab-badge.svg\" alt=\"Open In Colab\"/></a>"
      ]
    },
    {
      "cell_type": "markdown",
      "metadata": {
        "id": "sC2BFMOKN1M7"
      },
      "source": [
        "---\n",
        "<img alt=\"Colaboratory logo\" width=\"15%\" src=\"https://raw.githubusercontent.com/carlosfab/escola-data-science/master/img/novo_logo_bg_claro.png\">\n",
        "\n",
        "#### **Data Science na Prática 4.0**\n",
        "*by [sigmoidal.ai](https://sigmoidal.ai)*  \n",
        "\n",
        "---"
      ]
    },
    {
      "cell_type": "markdown",
      "metadata": {
        "id": "IR56trFcPcC1"
      },
      "source": [
        "# Churn Prediction\n",
        "\n",
        "*Churn rate*, ou simplesmente *churn*, representa a taxa de evasão da sua base de clientes. Em serviços como Spotify ou Netflix, ela representaria a taxa de cancelamento de assinaturas.\n",
        "\n",
        "<p align=center>\n",
        "<img src=\"https://raw.githubusercontent.com/carlosfab/dsnp2/master/img/churnrate.jpg\" width=\"60%\"></p>\n",
        "\n",
        "Ela é de extrema importância para a administração e sua análise ao longo do tempo pode mostrar que existe algum problema que deve ser atacado.\n",
        "\n",
        "*Churn* também pode ser usado para identificar potenciais cancelamentos, com um tempo de antecedência, e promover ações direcionadas para tentar reter tais clientes. Essa métrica deve receber atenção pelo fato de que o Custo de Aquisição de Cliente (CAC) é normalmente mais alto que o custo para mantê-los. Ou seja, um alto valor para o *churn rate* é o que não desejamos."
      ]
    },
    {
      "cell_type": "markdown",
      "metadata": {
        "id": "0HVmpIxQWT4Y"
      },
      "source": [
        "## Aquisição dos Dados\n",
        "\n",
        "Os dados utilizados neste projeto foram originalmente disponibilizados na [plataforma de ensino da IBM Developer](https://developer.ibm.com/technologies/data-science/patterns/predict-customer-churn-using-watson-studio-and-jupyter-notebooks/#), e tratam de um problema típico de uma companhia de telecomunicações. O *dataset* completo pode ser encontrado [neste link](https://raw.githubusercontent.com/carlosfab/dsnp2/master/datasets/WA_Fn-UseC_-Telco-Customer-Churn.csv).\n",
        "\n",
        "Apesar de não haver informações explícitas disponíves, os nomes das colunas permitem um entendimento a respeito do problema."
      ]
    },
    {
      "cell_type": "code",
      "metadata": {
        "id": "r9ZSROzUfQAj"
      },
      "source": [
        "# instalar Pandas Profiling\n",
        "!pip install scikit-plot -q\n",
        "!pip install imbalanced-learn -q"
      ],
      "execution_count": 1,
      "outputs": []
    },
    {
      "cell_type": "code",
      "source": [
        "!pip install scikit-learn==1.5.0 #compatível com o xgboost (https://github.com/dmlc/xgboost/issues/11093)"
      ],
      "metadata": {
        "colab": {
          "base_uri": "https://localhost:8080/"
        },
        "id": "QoEX5cGF3rhn",
        "outputId": "3a17bed2-3d62-407d-9cad-98faea81acfc"
      },
      "execution_count": 2,
      "outputs": [
        {
          "output_type": "stream",
          "name": "stdout",
          "text": [
            "Requirement already satisfied: scikit-learn==1.5.0 in /usr/local/lib/python3.11/dist-packages (1.5.0)\n",
            "Requirement already satisfied: numpy>=1.19.5 in /usr/local/lib/python3.11/dist-packages (from scikit-learn==1.5.0) (1.26.4)\n",
            "Requirement already satisfied: scipy>=1.6.0 in /usr/local/lib/python3.11/dist-packages (from scikit-learn==1.5.0) (1.13.1)\n",
            "Requirement already satisfied: joblib>=1.2.0 in /usr/local/lib/python3.11/dist-packages (from scikit-learn==1.5.0) (1.4.2)\n",
            "Requirement already satisfied: threadpoolctl>=3.1.0 in /usr/local/lib/python3.11/dist-packages (from scikit-learn==1.5.0) (3.5.0)\n"
          ]
        }
      ]
    },
    {
      "cell_type": "code",
      "source": [
        "# importar os pacotes necessários\n",
        "import pandas as pd\n",
        "import matplotlib.pyplot as plt\n",
        "import seaborn as sns\n",
        "from sklearn.preprocessing import StandardScaler, MinMaxScaler\n",
        "from sklearn.model_selection import train_test_split, cross_val_score, StratifiedKFold, GridSearchCV\n",
        "from sklearn.pipeline import make_pipeline\n",
        "from sklearn.metrics import roc_auc_score, confusion_matrix, classification_report, recall_score\n",
        "from sklearn.linear_model import LogisticRegression, SGDClassifier\n",
        "from sklearn.tree import DecisionTreeClassifier\n",
        "from sklearn.ensemble import RandomForestClassifier\n",
        "from sklearn.svm import SVC\n",
        "from xgboost import XGBClassifier\n",
        "from lightgbm import LGBMClassifier\n",
        "from imblearn.under_sampling import RandomUnderSampler\n",
        "import numpy as np"
      ],
      "metadata": {
        "id": "mAoezVlWrj6G",
        "colab": {
          "base_uri": "https://localhost:8080/"
        },
        "outputId": "3ceeff86-ea44-4f08-e891-9d75a9d689e6"
      },
      "execution_count": 3,
      "outputs": [
        {
          "output_type": "stream",
          "name": "stderr",
          "text": [
            "/usr/local/lib/python3.11/dist-packages/dask/dataframe/__init__.py:42: FutureWarning: \n",
            "Dask dataframe query planning is disabled because dask-expr is not installed.\n",
            "\n",
            "You can install it with `pip install dask[dataframe]` or `conda install dask`.\n",
            "This will raise in a future version.\n",
            "\n",
            "  warnings.warn(msg, FutureWarning)\n"
          ]
        }
      ]
    },
    {
      "cell_type": "code",
      "metadata": {
        "id": "oQ4bNy7udtEE",
        "colab": {
          "base_uri": "https://localhost:8080/",
          "height": 342
        },
        "outputId": "b53a0ed7-990e-4c58-9c88-cd29185f8fa7"
      },
      "source": [
        "# importar os dados\n",
        "DATA_PATH = \"https://raw.githubusercontent.com/carlosfab/dsnp2/master/datasets/WA_Fn-UseC_-Telco-Customer-Churn.csv\"\n",
        "df = pd.read_csv(DATA_PATH)\n",
        "\n",
        "# armazenar memória ocupada pelo dataframe inicial para compará-la com a ocupada após as tranformações\n",
        "memory_usage_before = df.memory_usage(deep=True)\n",
        "\n",
        "# ver as 5 primeiras entradas\n",
        "df.head()"
      ],
      "execution_count": 4,
      "outputs": [
        {
          "output_type": "execute_result",
          "data": {
            "text/plain": [
              "   customerID  gender  SeniorCitizen Partner Dependents  tenure PhoneService  \\\n",
              "0  7590-VHVEG  Female              0     Yes         No       1           No   \n",
              "1  5575-GNVDE    Male              0      No         No      34          Yes   \n",
              "2  3668-QPYBK    Male              0      No         No       2          Yes   \n",
              "3  7795-CFOCW    Male              0      No         No      45           No   \n",
              "4  9237-HQITU  Female              0      No         No       2          Yes   \n",
              "\n",
              "      MultipleLines InternetService OnlineSecurity  ... DeviceProtection  \\\n",
              "0  No phone service             DSL             No  ...               No   \n",
              "1                No             DSL            Yes  ...              Yes   \n",
              "2                No             DSL            Yes  ...               No   \n",
              "3  No phone service             DSL            Yes  ...              Yes   \n",
              "4                No     Fiber optic             No  ...               No   \n",
              "\n",
              "  TechSupport StreamingTV StreamingMovies        Contract PaperlessBilling  \\\n",
              "0          No          No              No  Month-to-month              Yes   \n",
              "1          No          No              No        One year               No   \n",
              "2          No          No              No  Month-to-month              Yes   \n",
              "3         Yes          No              No        One year               No   \n",
              "4          No          No              No  Month-to-month              Yes   \n",
              "\n",
              "               PaymentMethod MonthlyCharges  TotalCharges Churn  \n",
              "0           Electronic check          29.85         29.85    No  \n",
              "1               Mailed check          56.95        1889.5    No  \n",
              "2               Mailed check          53.85        108.15   Yes  \n",
              "3  Bank transfer (automatic)          42.30       1840.75    No  \n",
              "4           Electronic check          70.70        151.65   Yes  \n",
              "\n",
              "[5 rows x 21 columns]"
            ],
            "text/html": [
              "\n",
              "  <div id=\"df-8a892607-9315-40f0-8538-b6e9f18861b9\" class=\"colab-df-container\">\n",
              "    <div>\n",
              "<style scoped>\n",
              "    .dataframe tbody tr th:only-of-type {\n",
              "        vertical-align: middle;\n",
              "    }\n",
              "\n",
              "    .dataframe tbody tr th {\n",
              "        vertical-align: top;\n",
              "    }\n",
              "\n",
              "    .dataframe thead th {\n",
              "        text-align: right;\n",
              "    }\n",
              "</style>\n",
              "<table border=\"1\" class=\"dataframe\">\n",
              "  <thead>\n",
              "    <tr style=\"text-align: right;\">\n",
              "      <th></th>\n",
              "      <th>customerID</th>\n",
              "      <th>gender</th>\n",
              "      <th>SeniorCitizen</th>\n",
              "      <th>Partner</th>\n",
              "      <th>Dependents</th>\n",
              "      <th>tenure</th>\n",
              "      <th>PhoneService</th>\n",
              "      <th>MultipleLines</th>\n",
              "      <th>InternetService</th>\n",
              "      <th>OnlineSecurity</th>\n",
              "      <th>...</th>\n",
              "      <th>DeviceProtection</th>\n",
              "      <th>TechSupport</th>\n",
              "      <th>StreamingTV</th>\n",
              "      <th>StreamingMovies</th>\n",
              "      <th>Contract</th>\n",
              "      <th>PaperlessBilling</th>\n",
              "      <th>PaymentMethod</th>\n",
              "      <th>MonthlyCharges</th>\n",
              "      <th>TotalCharges</th>\n",
              "      <th>Churn</th>\n",
              "    </tr>\n",
              "  </thead>\n",
              "  <tbody>\n",
              "    <tr>\n",
              "      <th>0</th>\n",
              "      <td>7590-VHVEG</td>\n",
              "      <td>Female</td>\n",
              "      <td>0</td>\n",
              "      <td>Yes</td>\n",
              "      <td>No</td>\n",
              "      <td>1</td>\n",
              "      <td>No</td>\n",
              "      <td>No phone service</td>\n",
              "      <td>DSL</td>\n",
              "      <td>No</td>\n",
              "      <td>...</td>\n",
              "      <td>No</td>\n",
              "      <td>No</td>\n",
              "      <td>No</td>\n",
              "      <td>No</td>\n",
              "      <td>Month-to-month</td>\n",
              "      <td>Yes</td>\n",
              "      <td>Electronic check</td>\n",
              "      <td>29.85</td>\n",
              "      <td>29.85</td>\n",
              "      <td>No</td>\n",
              "    </tr>\n",
              "    <tr>\n",
              "      <th>1</th>\n",
              "      <td>5575-GNVDE</td>\n",
              "      <td>Male</td>\n",
              "      <td>0</td>\n",
              "      <td>No</td>\n",
              "      <td>No</td>\n",
              "      <td>34</td>\n",
              "      <td>Yes</td>\n",
              "      <td>No</td>\n",
              "      <td>DSL</td>\n",
              "      <td>Yes</td>\n",
              "      <td>...</td>\n",
              "      <td>Yes</td>\n",
              "      <td>No</td>\n",
              "      <td>No</td>\n",
              "      <td>No</td>\n",
              "      <td>One year</td>\n",
              "      <td>No</td>\n",
              "      <td>Mailed check</td>\n",
              "      <td>56.95</td>\n",
              "      <td>1889.5</td>\n",
              "      <td>No</td>\n",
              "    </tr>\n",
              "    <tr>\n",
              "      <th>2</th>\n",
              "      <td>3668-QPYBK</td>\n",
              "      <td>Male</td>\n",
              "      <td>0</td>\n",
              "      <td>No</td>\n",
              "      <td>No</td>\n",
              "      <td>2</td>\n",
              "      <td>Yes</td>\n",
              "      <td>No</td>\n",
              "      <td>DSL</td>\n",
              "      <td>Yes</td>\n",
              "      <td>...</td>\n",
              "      <td>No</td>\n",
              "      <td>No</td>\n",
              "      <td>No</td>\n",
              "      <td>No</td>\n",
              "      <td>Month-to-month</td>\n",
              "      <td>Yes</td>\n",
              "      <td>Mailed check</td>\n",
              "      <td>53.85</td>\n",
              "      <td>108.15</td>\n",
              "      <td>Yes</td>\n",
              "    </tr>\n",
              "    <tr>\n",
              "      <th>3</th>\n",
              "      <td>7795-CFOCW</td>\n",
              "      <td>Male</td>\n",
              "      <td>0</td>\n",
              "      <td>No</td>\n",
              "      <td>No</td>\n",
              "      <td>45</td>\n",
              "      <td>No</td>\n",
              "      <td>No phone service</td>\n",
              "      <td>DSL</td>\n",
              "      <td>Yes</td>\n",
              "      <td>...</td>\n",
              "      <td>Yes</td>\n",
              "      <td>Yes</td>\n",
              "      <td>No</td>\n",
              "      <td>No</td>\n",
              "      <td>One year</td>\n",
              "      <td>No</td>\n",
              "      <td>Bank transfer (automatic)</td>\n",
              "      <td>42.30</td>\n",
              "      <td>1840.75</td>\n",
              "      <td>No</td>\n",
              "    </tr>\n",
              "    <tr>\n",
              "      <th>4</th>\n",
              "      <td>9237-HQITU</td>\n",
              "      <td>Female</td>\n",
              "      <td>0</td>\n",
              "      <td>No</td>\n",
              "      <td>No</td>\n",
              "      <td>2</td>\n",
              "      <td>Yes</td>\n",
              "      <td>No</td>\n",
              "      <td>Fiber optic</td>\n",
              "      <td>No</td>\n",
              "      <td>...</td>\n",
              "      <td>No</td>\n",
              "      <td>No</td>\n",
              "      <td>No</td>\n",
              "      <td>No</td>\n",
              "      <td>Month-to-month</td>\n",
              "      <td>Yes</td>\n",
              "      <td>Electronic check</td>\n",
              "      <td>70.70</td>\n",
              "      <td>151.65</td>\n",
              "      <td>Yes</td>\n",
              "    </tr>\n",
              "  </tbody>\n",
              "</table>\n",
              "<p>5 rows × 21 columns</p>\n",
              "</div>\n",
              "    <div class=\"colab-df-buttons\">\n",
              "\n",
              "  <div class=\"colab-df-container\">\n",
              "    <button class=\"colab-df-convert\" onclick=\"convertToInteractive('df-8a892607-9315-40f0-8538-b6e9f18861b9')\"\n",
              "            title=\"Convert this dataframe to an interactive table.\"\n",
              "            style=\"display:none;\">\n",
              "\n",
              "  <svg xmlns=\"http://www.w3.org/2000/svg\" height=\"24px\" viewBox=\"0 -960 960 960\">\n",
              "    <path d=\"M120-120v-720h720v720H120Zm60-500h600v-160H180v160Zm220 220h160v-160H400v160Zm0 220h160v-160H400v160ZM180-400h160v-160H180v160Zm440 0h160v-160H620v160ZM180-180h160v-160H180v160Zm440 0h160v-160H620v160Z\"/>\n",
              "  </svg>\n",
              "    </button>\n",
              "\n",
              "  <style>\n",
              "    .colab-df-container {\n",
              "      display:flex;\n",
              "      gap: 12px;\n",
              "    }\n",
              "\n",
              "    .colab-df-convert {\n",
              "      background-color: #E8F0FE;\n",
              "      border: none;\n",
              "      border-radius: 50%;\n",
              "      cursor: pointer;\n",
              "      display: none;\n",
              "      fill: #1967D2;\n",
              "      height: 32px;\n",
              "      padding: 0 0 0 0;\n",
              "      width: 32px;\n",
              "    }\n",
              "\n",
              "    .colab-df-convert:hover {\n",
              "      background-color: #E2EBFA;\n",
              "      box-shadow: 0px 1px 2px rgba(60, 64, 67, 0.3), 0px 1px 3px 1px rgba(60, 64, 67, 0.15);\n",
              "      fill: #174EA6;\n",
              "    }\n",
              "\n",
              "    .colab-df-buttons div {\n",
              "      margin-bottom: 4px;\n",
              "    }\n",
              "\n",
              "    [theme=dark] .colab-df-convert {\n",
              "      background-color: #3B4455;\n",
              "      fill: #D2E3FC;\n",
              "    }\n",
              "\n",
              "    [theme=dark] .colab-df-convert:hover {\n",
              "      background-color: #434B5C;\n",
              "      box-shadow: 0px 1px 3px 1px rgba(0, 0, 0, 0.15);\n",
              "      filter: drop-shadow(0px 1px 2px rgba(0, 0, 0, 0.3));\n",
              "      fill: #FFFFFF;\n",
              "    }\n",
              "  </style>\n",
              "\n",
              "    <script>\n",
              "      const buttonEl =\n",
              "        document.querySelector('#df-8a892607-9315-40f0-8538-b6e9f18861b9 button.colab-df-convert');\n",
              "      buttonEl.style.display =\n",
              "        google.colab.kernel.accessAllowed ? 'block' : 'none';\n",
              "\n",
              "      async function convertToInteractive(key) {\n",
              "        const element = document.querySelector('#df-8a892607-9315-40f0-8538-b6e9f18861b9');\n",
              "        const dataTable =\n",
              "          await google.colab.kernel.invokeFunction('convertToInteractive',\n",
              "                                                    [key], {});\n",
              "        if (!dataTable) return;\n",
              "\n",
              "        const docLinkHtml = 'Like what you see? Visit the ' +\n",
              "          '<a target=\"_blank\" href=https://colab.research.google.com/notebooks/data_table.ipynb>data table notebook</a>'\n",
              "          + ' to learn more about interactive tables.';\n",
              "        element.innerHTML = '';\n",
              "        dataTable['output_type'] = 'display_data';\n",
              "        await google.colab.output.renderOutput(dataTable, element);\n",
              "        const docLink = document.createElement('div');\n",
              "        docLink.innerHTML = docLinkHtml;\n",
              "        element.appendChild(docLink);\n",
              "      }\n",
              "    </script>\n",
              "  </div>\n",
              "\n",
              "\n",
              "<div id=\"df-c97072f6-6992-4860-8572-ba0f442ac25b\">\n",
              "  <button class=\"colab-df-quickchart\" onclick=\"quickchart('df-c97072f6-6992-4860-8572-ba0f442ac25b')\"\n",
              "            title=\"Suggest charts\"\n",
              "            style=\"display:none;\">\n",
              "\n",
              "<svg xmlns=\"http://www.w3.org/2000/svg\" height=\"24px\"viewBox=\"0 0 24 24\"\n",
              "     width=\"24px\">\n",
              "    <g>\n",
              "        <path d=\"M19 3H5c-1.1 0-2 .9-2 2v14c0 1.1.9 2 2 2h14c1.1 0 2-.9 2-2V5c0-1.1-.9-2-2-2zM9 17H7v-7h2v7zm4 0h-2V7h2v10zm4 0h-2v-4h2v4z\"/>\n",
              "    </g>\n",
              "</svg>\n",
              "  </button>\n",
              "\n",
              "<style>\n",
              "  .colab-df-quickchart {\n",
              "      --bg-color: #E8F0FE;\n",
              "      --fill-color: #1967D2;\n",
              "      --hover-bg-color: #E2EBFA;\n",
              "      --hover-fill-color: #174EA6;\n",
              "      --disabled-fill-color: #AAA;\n",
              "      --disabled-bg-color: #DDD;\n",
              "  }\n",
              "\n",
              "  [theme=dark] .colab-df-quickchart {\n",
              "      --bg-color: #3B4455;\n",
              "      --fill-color: #D2E3FC;\n",
              "      --hover-bg-color: #434B5C;\n",
              "      --hover-fill-color: #FFFFFF;\n",
              "      --disabled-bg-color: #3B4455;\n",
              "      --disabled-fill-color: #666;\n",
              "  }\n",
              "\n",
              "  .colab-df-quickchart {\n",
              "    background-color: var(--bg-color);\n",
              "    border: none;\n",
              "    border-radius: 50%;\n",
              "    cursor: pointer;\n",
              "    display: none;\n",
              "    fill: var(--fill-color);\n",
              "    height: 32px;\n",
              "    padding: 0;\n",
              "    width: 32px;\n",
              "  }\n",
              "\n",
              "  .colab-df-quickchart:hover {\n",
              "    background-color: var(--hover-bg-color);\n",
              "    box-shadow: 0 1px 2px rgba(60, 64, 67, 0.3), 0 1px 3px 1px rgba(60, 64, 67, 0.15);\n",
              "    fill: var(--button-hover-fill-color);\n",
              "  }\n",
              "\n",
              "  .colab-df-quickchart-complete:disabled,\n",
              "  .colab-df-quickchart-complete:disabled:hover {\n",
              "    background-color: var(--disabled-bg-color);\n",
              "    fill: var(--disabled-fill-color);\n",
              "    box-shadow: none;\n",
              "  }\n",
              "\n",
              "  .colab-df-spinner {\n",
              "    border: 2px solid var(--fill-color);\n",
              "    border-color: transparent;\n",
              "    border-bottom-color: var(--fill-color);\n",
              "    animation:\n",
              "      spin 1s steps(1) infinite;\n",
              "  }\n",
              "\n",
              "  @keyframes spin {\n",
              "    0% {\n",
              "      border-color: transparent;\n",
              "      border-bottom-color: var(--fill-color);\n",
              "      border-left-color: var(--fill-color);\n",
              "    }\n",
              "    20% {\n",
              "      border-color: transparent;\n",
              "      border-left-color: var(--fill-color);\n",
              "      border-top-color: var(--fill-color);\n",
              "    }\n",
              "    30% {\n",
              "      border-color: transparent;\n",
              "      border-left-color: var(--fill-color);\n",
              "      border-top-color: var(--fill-color);\n",
              "      border-right-color: var(--fill-color);\n",
              "    }\n",
              "    40% {\n",
              "      border-color: transparent;\n",
              "      border-right-color: var(--fill-color);\n",
              "      border-top-color: var(--fill-color);\n",
              "    }\n",
              "    60% {\n",
              "      border-color: transparent;\n",
              "      border-right-color: var(--fill-color);\n",
              "    }\n",
              "    80% {\n",
              "      border-color: transparent;\n",
              "      border-right-color: var(--fill-color);\n",
              "      border-bottom-color: var(--fill-color);\n",
              "    }\n",
              "    90% {\n",
              "      border-color: transparent;\n",
              "      border-bottom-color: var(--fill-color);\n",
              "    }\n",
              "  }\n",
              "</style>\n",
              "\n",
              "  <script>\n",
              "    async function quickchart(key) {\n",
              "      const quickchartButtonEl =\n",
              "        document.querySelector('#' + key + ' button');\n",
              "      quickchartButtonEl.disabled = true;  // To prevent multiple clicks.\n",
              "      quickchartButtonEl.classList.add('colab-df-spinner');\n",
              "      try {\n",
              "        const charts = await google.colab.kernel.invokeFunction(\n",
              "            'suggestCharts', [key], {});\n",
              "      } catch (error) {\n",
              "        console.error('Error during call to suggestCharts:', error);\n",
              "      }\n",
              "      quickchartButtonEl.classList.remove('colab-df-spinner');\n",
              "      quickchartButtonEl.classList.add('colab-df-quickchart-complete');\n",
              "    }\n",
              "    (() => {\n",
              "      let quickchartButtonEl =\n",
              "        document.querySelector('#df-c97072f6-6992-4860-8572-ba0f442ac25b button');\n",
              "      quickchartButtonEl.style.display =\n",
              "        google.colab.kernel.accessAllowed ? 'block' : 'none';\n",
              "    })();\n",
              "  </script>\n",
              "</div>\n",
              "\n",
              "    </div>\n",
              "  </div>\n"
            ],
            "application/vnd.google.colaboratory.intrinsic+json": {
              "type": "dataframe",
              "variable_name": "df"
            }
          },
          "metadata": {},
          "execution_count": 4
        }
      ]
    },
    {
      "cell_type": "code",
      "source": [
        "# verificar as dimensões do dataset e os tipos das variáveis\n",
        "print(df.shape)\n",
        "df.dtypes"
      ],
      "metadata": {
        "colab": {
          "base_uri": "https://localhost:8080/",
          "height": 760
        },
        "id": "v3u6G5-6HlX4",
        "outputId": "5f439f36-b4ae-4a51-a7ed-5121ef6567ae"
      },
      "execution_count": 5,
      "outputs": [
        {
          "output_type": "stream",
          "name": "stdout",
          "text": [
            "(7043, 21)\n"
          ]
        },
        {
          "output_type": "execute_result",
          "data": {
            "text/plain": [
              "customerID           object\n",
              "gender               object\n",
              "SeniorCitizen         int64\n",
              "Partner              object\n",
              "Dependents           object\n",
              "tenure                int64\n",
              "PhoneService         object\n",
              "MultipleLines        object\n",
              "InternetService      object\n",
              "OnlineSecurity       object\n",
              "OnlineBackup         object\n",
              "DeviceProtection     object\n",
              "TechSupport          object\n",
              "StreamingTV          object\n",
              "StreamingMovies      object\n",
              "Contract             object\n",
              "PaperlessBilling     object\n",
              "PaymentMethod        object\n",
              "MonthlyCharges      float64\n",
              "TotalCharges         object\n",
              "Churn                object\n",
              "dtype: object"
            ],
            "text/html": [
              "<div>\n",
              "<style scoped>\n",
              "    .dataframe tbody tr th:only-of-type {\n",
              "        vertical-align: middle;\n",
              "    }\n",
              "\n",
              "    .dataframe tbody tr th {\n",
              "        vertical-align: top;\n",
              "    }\n",
              "\n",
              "    .dataframe thead th {\n",
              "        text-align: right;\n",
              "    }\n",
              "</style>\n",
              "<table border=\"1\" class=\"dataframe\">\n",
              "  <thead>\n",
              "    <tr style=\"text-align: right;\">\n",
              "      <th></th>\n",
              "      <th>0</th>\n",
              "    </tr>\n",
              "  </thead>\n",
              "  <tbody>\n",
              "    <tr>\n",
              "      <th>customerID</th>\n",
              "      <td>object</td>\n",
              "    </tr>\n",
              "    <tr>\n",
              "      <th>gender</th>\n",
              "      <td>object</td>\n",
              "    </tr>\n",
              "    <tr>\n",
              "      <th>SeniorCitizen</th>\n",
              "      <td>int64</td>\n",
              "    </tr>\n",
              "    <tr>\n",
              "      <th>Partner</th>\n",
              "      <td>object</td>\n",
              "    </tr>\n",
              "    <tr>\n",
              "      <th>Dependents</th>\n",
              "      <td>object</td>\n",
              "    </tr>\n",
              "    <tr>\n",
              "      <th>tenure</th>\n",
              "      <td>int64</td>\n",
              "    </tr>\n",
              "    <tr>\n",
              "      <th>PhoneService</th>\n",
              "      <td>object</td>\n",
              "    </tr>\n",
              "    <tr>\n",
              "      <th>MultipleLines</th>\n",
              "      <td>object</td>\n",
              "    </tr>\n",
              "    <tr>\n",
              "      <th>InternetService</th>\n",
              "      <td>object</td>\n",
              "    </tr>\n",
              "    <tr>\n",
              "      <th>OnlineSecurity</th>\n",
              "      <td>object</td>\n",
              "    </tr>\n",
              "    <tr>\n",
              "      <th>OnlineBackup</th>\n",
              "      <td>object</td>\n",
              "    </tr>\n",
              "    <tr>\n",
              "      <th>DeviceProtection</th>\n",
              "      <td>object</td>\n",
              "    </tr>\n",
              "    <tr>\n",
              "      <th>TechSupport</th>\n",
              "      <td>object</td>\n",
              "    </tr>\n",
              "    <tr>\n",
              "      <th>StreamingTV</th>\n",
              "      <td>object</td>\n",
              "    </tr>\n",
              "    <tr>\n",
              "      <th>StreamingMovies</th>\n",
              "      <td>object</td>\n",
              "    </tr>\n",
              "    <tr>\n",
              "      <th>Contract</th>\n",
              "      <td>object</td>\n",
              "    </tr>\n",
              "    <tr>\n",
              "      <th>PaperlessBilling</th>\n",
              "      <td>object</td>\n",
              "    </tr>\n",
              "    <tr>\n",
              "      <th>PaymentMethod</th>\n",
              "      <td>object</td>\n",
              "    </tr>\n",
              "    <tr>\n",
              "      <th>MonthlyCharges</th>\n",
              "      <td>float64</td>\n",
              "    </tr>\n",
              "    <tr>\n",
              "      <th>TotalCharges</th>\n",
              "      <td>object</td>\n",
              "    </tr>\n",
              "    <tr>\n",
              "      <th>Churn</th>\n",
              "      <td>object</td>\n",
              "    </tr>\n",
              "  </tbody>\n",
              "</table>\n",
              "</div><br><label><b>dtype:</b> object</label>"
            ]
          },
          "metadata": {},
          "execution_count": 5
        }
      ]
    },
    {
      "cell_type": "code",
      "source": [
        "# verificar dados faltantes\n",
        "max(df.isnull().sum())"
      ],
      "metadata": {
        "colab": {
          "base_uri": "https://localhost:8080/"
        },
        "id": "dUPyCN_QIFpm",
        "outputId": "6a6c6c26-84ce-4e75-a27a-75f544dbf718"
      },
      "execution_count": 6,
      "outputs": [
        {
          "output_type": "execute_result",
          "data": {
            "text/plain": [
              "0"
            ]
          },
          "metadata": {},
          "execution_count": 6
        }
      ]
    },
    {
      "cell_type": "markdown",
      "source": [
        "Do resultado acima poderíamos concluir que não há dados faltantes. No entanto, ao tentar transformar `TotalCharges` para `float`, percebeu-se que não era esse o caso. Isso aconteceu pois a variável está armazenada como `string`, e os valores faltantes são  representados por `' '`."
      ],
      "metadata": {
        "id": "qj_HVoZJIcGm"
      }
    },
    {
      "cell_type": "code",
      "source": [
        "print(f\"Porcentagem de valores faltantes para TotalCharges = {100 * ((df['TotalCharges'] == ' ').sum()/df.shape[0]):.4f}%.\")"
      ],
      "metadata": {
        "colab": {
          "base_uri": "https://localhost:8080/"
        },
        "id": "L1Bukv2ZEt-3",
        "outputId": "79d1ea9f-565c-4450-9c73-cdb9544f0ee4"
      },
      "execution_count": 7,
      "outputs": [
        {
          "output_type": "stream",
          "name": "stdout",
          "text": [
            "Porcentagem de valores faltantes para TotalCharges = 0.1562%.\n"
          ]
        }
      ]
    },
    {
      "cell_type": "markdown",
      "source": [
        "## Transformação dos Dados"
      ],
      "metadata": {
        "id": "U84ZFMkNTdfB"
      }
    },
    {
      "cell_type": "code",
      "source": [
        "# verificar quais valores as variáveis podem assumir\n",
        "for col in df.columns:\n",
        "  print(f'{col}: {df[col].unique()}')\n",
        "\n",
        "# para as variáveis que podem ser apenas Yes ou No, converter para boolenas True ou False\n",
        "for col in df.columns:\n",
        "  possible_values = df[col].unique()\n",
        "  if possible_values.shape[0] == 2 and ((possible_values == ['No', 'No']).any() or\n",
        "                                        (possible_values == ['No', 'Yes']).any() or\n",
        "                                        (possible_values == ['Yes', 'No']).any() or\n",
        "                                        (possible_values == ['Yes', 'Yes']).any()):\n",
        "    df[col] = df[col].replace({'Yes': True, 'No': False})\n",
        "\n",
        "# a variável SeniorCitizen também é binária (está armazenada com 0 e 1) e será convertida para booleana\n",
        "df['SeniorCitizen'] = df['SeniorCitizen'].replace({1: True, 0: False})\n",
        "\n",
        "# como os gêneros armazenados são apenas dois, optou-se por converter a variável correspondete para booleana\n",
        "df['gender'] = df['gender'].replace({'Male': True, 'Female': False})\n",
        "df = df.rename(columns={'gender': 'Male'})\n",
        "\n",
        "# a variável customerID não acrescenta nenhuma informação e será removida\n",
        "df.drop(columns=['customerID'], inplace=True)\n",
        "\n",
        "# padronizar o nome das variáveis com a primeira letra maíuscula\n",
        "df = df.rename(columns={'tenure': 'Tenure'})"
      ],
      "metadata": {
        "colab": {
          "base_uri": "https://localhost:8080/"
        },
        "collapsed": true,
        "id": "6kOdXyPMx1-V",
        "outputId": "7df02483-0142-496d-eaf4-b8f8fe4676cb"
      },
      "execution_count": 8,
      "outputs": [
        {
          "output_type": "stream",
          "name": "stdout",
          "text": [
            "customerID: ['7590-VHVEG' '5575-GNVDE' '3668-QPYBK' ... '4801-JZAZL' '8361-LTMKD'\n",
            " '3186-AJIEK']\n",
            "gender: ['Female' 'Male']\n",
            "SeniorCitizen: [0 1]\n",
            "Partner: ['Yes' 'No']\n",
            "Dependents: ['No' 'Yes']\n",
            "tenure: [ 1 34  2 45  8 22 10 28 62 13 16 58 49 25 69 52 71 21 12 30 47 72 17 27\n",
            "  5 46 11 70 63 43 15 60 18 66  9  3 31 50 64 56  7 42 35 48 29 65 38 68\n",
            " 32 55 37 36 41  6  4 33 67 23 57 61 14 20 53 40 59 24 44 19 54 51 26  0\n",
            " 39]\n",
            "PhoneService: ['No' 'Yes']\n",
            "MultipleLines: ['No phone service' 'No' 'Yes']\n",
            "InternetService: ['DSL' 'Fiber optic' 'No']\n",
            "OnlineSecurity: ['No' 'Yes' 'No internet service']\n",
            "OnlineBackup: ['Yes' 'No' 'No internet service']\n",
            "DeviceProtection: ['No' 'Yes' 'No internet service']\n",
            "TechSupport: ['No' 'Yes' 'No internet service']\n",
            "StreamingTV: ['No' 'Yes' 'No internet service']\n",
            "StreamingMovies: ['No' 'Yes' 'No internet service']\n",
            "Contract: ['Month-to-month' 'One year' 'Two year']\n",
            "PaperlessBilling: ['Yes' 'No']\n",
            "PaymentMethod: ['Electronic check' 'Mailed check' 'Bank transfer (automatic)'\n",
            " 'Credit card (automatic)']\n",
            "MonthlyCharges: [29.85 56.95 53.85 ... 63.1  44.2  78.7 ]\n",
            "TotalCharges: ['29.85' '1889.5' '108.15' ... '346.45' '306.6' '6844.5']\n",
            "Churn: ['No' 'Yes']\n"
          ]
        },
        {
          "output_type": "stream",
          "name": "stderr",
          "text": [
            "<ipython-input-8-1dcd1b644197>:12: FutureWarning: Downcasting behavior in `replace` is deprecated and will be removed in a future version. To retain the old behavior, explicitly call `result.infer_objects(copy=False)`. To opt-in to the future behavior, set `pd.set_option('future.no_silent_downcasting', True)`\n",
            "  df[col] = df[col].replace({'Yes': True, 'No': False})\n",
            "<ipython-input-8-1dcd1b644197>:15: FutureWarning: Downcasting behavior in `replace` is deprecated and will be removed in a future version. To retain the old behavior, explicitly call `result.infer_objects(copy=False)`. To opt-in to the future behavior, set `pd.set_option('future.no_silent_downcasting', True)`\n",
            "  df['SeniorCitizen'] = df['SeniorCitizen'].replace({1: True, 0: False})\n",
            "<ipython-input-8-1dcd1b644197>:18: FutureWarning: Downcasting behavior in `replace` is deprecated and will be removed in a future version. To retain the old behavior, explicitly call `result.infer_objects(copy=False)`. To opt-in to the future behavior, set `pd.set_option('future.no_silent_downcasting', True)`\n",
            "  df['gender'] = df['gender'].replace({'Male': True, 'Female': False})\n"
          ]
        }
      ]
    },
    {
      "cell_type": "markdown",
      "source": [
        "Além das mudanças acima, serão feitas as seguintes alterações:\n",
        "*   `MultipleLines` se tornará uma booleana, pois a informação sobre haver ou não serviço de telefone já está contida em `PhoneService`;\n",
        "*   `InternetService` se tornará uma booleana para identificar se há ou não serviço de internet, e serão inseridas as variáveis boolenas `DSL` e `OpticalFiber` para identificar o tipo de conexão, caso haja;\n",
        "*   `OnlineSecurity`, `OnlineBackup`, `DeviceProtection`, `TechSupport`, `StreamingTV` e `StreamingMovies` se tornarão booleanas, pois a informação sobre haver ou não serviço de internet já está contida em `InternetService`;\n",
        "*   `Contract` será eliminada e dará origem a três booleanas correspondentes ao tipo de contrato: `Month2MonthContract`, `OneYearContract` e `TwoYearContract`; e\n",
        "*   `PaymentMethod`  será eliminada e dará origem a três booleanas correspondentes método de pagamento: `MailedCheckPayment`, `ElectronicCheckPayment` e `BankTransferPayment`.\n"
      ],
      "metadata": {
        "id": "kKmsU4fRLZBs"
      }
    },
    {
      "cell_type": "code",
      "source": [
        "dummy_MultipleLines = pd.get_dummies(df['MultipleLines'], prefix='MultipleLines')\n",
        "df['MultipleLines'] = dummy_MultipleLines['MultipleLines_Yes']\n",
        "\n",
        "dummy_InternetService = pd.get_dummies(df['InternetService'], prefix='InternetService')\n",
        "df['InternetService'] = ~dummy_InternetService['InternetService_No']\n",
        "df.insert(8, 'DSL', dummy_InternetService['InternetService_DSL'])\n",
        "df.insert(9, 'OpticalFiber', dummy_InternetService['InternetService_Fiber optic'])\n",
        "\n",
        "dummy_OnlineSecurity = pd.get_dummies(df['OnlineSecurity'], prefix='OnlineSecurity')\n",
        "df['OnlineSecurity'] = dummy_OnlineSecurity['OnlineSecurity_Yes']\n",
        "\n",
        "dummy_OnlineBackup = pd.get_dummies(df['OnlineBackup'], prefix='OnlineBackup')\n",
        "df['OnlineBackup'] = dummy_OnlineBackup['OnlineBackup_Yes']\n",
        "\n",
        "dummy_DeviceProtection = pd.get_dummies(df['DeviceProtection'], prefix='DeviceProtection')\n",
        "df['DeviceProtection'] = dummy_DeviceProtection['DeviceProtection_Yes']\n",
        "\n",
        "dummy_TechSupport = pd.get_dummies(df['TechSupport'], prefix='TechSupport')\n",
        "df['TechSupport'] = dummy_TechSupport['TechSupport_Yes']\n",
        "\n",
        "dummy_StreamingTV = pd.get_dummies(df['StreamingTV'], prefix='StreamingTV')\n",
        "df['StreamingTV'] = dummy_StreamingTV['StreamingTV_Yes']\n",
        "\n",
        "dummy_StreamingMovies = pd.get_dummies(df['StreamingMovies'], prefix='StreamingMovies')\n",
        "df['StreamingMovies'] = dummy_StreamingMovies['StreamingMovies_Yes']\n",
        "\n",
        "dummy_Contract = pd.get_dummies(df['Contract'], prefix='Contract')\n",
        "df.insert(16, 'Month2MonthContract', dummy_Contract['Contract_Month-to-month'])\n",
        "df.insert(17, 'OneYearContract', dummy_Contract['Contract_One year'])\n",
        "df.insert(18, 'TwoYearContract', dummy_Contract['Contract_Two year'])\n",
        "df.drop(columns=['Contract'], inplace=True)\n",
        "\n",
        "dummy_PaymentMethod = pd.get_dummies(df['PaymentMethod'], prefix='PaymentMethod')\n",
        "df.insert(20, 'MailedCheckPayment', dummy_PaymentMethod['PaymentMethod_Mailed check'])\n",
        "df.insert(21, 'ElectronicCheckPayment', dummy_PaymentMethod['PaymentMethod_Electronic check'])\n",
        "df.insert(22, 'BankTransferPayment', dummy_PaymentMethod['PaymentMethod_Bank transfer (automatic)'])\n",
        "df.drop(columns=['PaymentMethod'], inplace=True)"
      ],
      "metadata": {
        "id": "9i80r6kKIQMB"
      },
      "execution_count": 9,
      "outputs": []
    },
    {
      "cell_type": "markdown",
      "source": [
        "A variável `TotalCharges` será convertida para `float` e, como foi verificado anteriormente que os valores faltantes são apenas 0,1562% do total dos dados, eles serão eliminados do *dataset*."
      ],
      "metadata": {
        "id": "dDxA3z2JQzDv"
      }
    },
    {
      "cell_type": "code",
      "source": [
        "df['TotalCharges'] = pd.to_numeric(df['TotalCharges'], errors='coerce')\n",
        "df.dropna(inplace=True)\n",
        "df.info()"
      ],
      "metadata": {
        "colab": {
          "base_uri": "https://localhost:8080/"
        },
        "id": "lazzjQ9n86yX",
        "outputId": "661f7f34-ea57-4378-fa64-b68445abf5f4"
      },
      "execution_count": 10,
      "outputs": [
        {
          "output_type": "stream",
          "name": "stdout",
          "text": [
            "<class 'pandas.core.frame.DataFrame'>\n",
            "Index: 7032 entries, 0 to 7042\n",
            "Data columns (total 26 columns):\n",
            " #   Column                  Non-Null Count  Dtype  \n",
            "---  ------                  --------------  -----  \n",
            " 0   Male                    7032 non-null   bool   \n",
            " 1   SeniorCitizen           7032 non-null   bool   \n",
            " 2   Partner                 7032 non-null   bool   \n",
            " 3   Dependents              7032 non-null   bool   \n",
            " 4   Tenure                  7032 non-null   int64  \n",
            " 5   PhoneService            7032 non-null   bool   \n",
            " 6   MultipleLines           7032 non-null   bool   \n",
            " 7   InternetService         7032 non-null   bool   \n",
            " 8   DSL                     7032 non-null   bool   \n",
            " 9   OpticalFiber            7032 non-null   bool   \n",
            " 10  OnlineSecurity          7032 non-null   bool   \n",
            " 11  OnlineBackup            7032 non-null   bool   \n",
            " 12  DeviceProtection        7032 non-null   bool   \n",
            " 13  TechSupport             7032 non-null   bool   \n",
            " 14  StreamingTV             7032 non-null   bool   \n",
            " 15  StreamingMovies         7032 non-null   bool   \n",
            " 16  Month2MonthContract     7032 non-null   bool   \n",
            " 17  OneYearContract         7032 non-null   bool   \n",
            " 18  TwoYearContract         7032 non-null   bool   \n",
            " 19  PaperlessBilling        7032 non-null   bool   \n",
            " 20  MailedCheckPayment      7032 non-null   bool   \n",
            " 21  ElectronicCheckPayment  7032 non-null   bool   \n",
            " 22  BankTransferPayment     7032 non-null   bool   \n",
            " 23  MonthlyCharges          7032 non-null   float64\n",
            " 24  TotalCharges            7032 non-null   float64\n",
            " 25  Churn                   7032 non-null   bool   \n",
            "dtypes: bool(23), float64(2), int64(1)\n",
            "memory usage: 377.7 KB\n"
          ]
        }
      ]
    },
    {
      "cell_type": "code",
      "source": [
        "memory_usage_after = df.memory_usage(deep=True)\n",
        "print(f\"Memória ocupada pelo dataset antes:  {memory_usage_before.sum() / 1024 :.2f} kB\")\n",
        "print(f\"Memória ocupada pelo dataset depois:  {memory_usage_after.sum() / 1024 :.2f} kB\")"
      ],
      "metadata": {
        "colab": {
          "base_uri": "https://localhost:8080/"
        },
        "id": "NaHYDmwZSNuX",
        "outputId": "71a116e2-6b1e-4973-be44-842bac1f8777"
      },
      "execution_count": 28,
      "outputs": [
        {
          "output_type": "stream",
          "name": "stdout",
          "text": [
            "Memória ocupada pelo dataset antes:  7975.08 kB\n",
            "Memória ocupada pelo dataset depois:  370.83 kB\n"
          ]
        }
      ]
    },
    {
      "cell_type": "markdown",
      "source": [
        "## Análise Exploratória dos Dados Transformados"
      ],
      "metadata": {
        "id": "MKv09dD8TtEa"
      }
    },
    {
      "cell_type": "markdown",
      "source": [
        "A seguir serão apresentadas os histogramas e os *boxplots* para as variáveis numéricas (`Tenure`, `MonthlyCharges` e `TotalCharges`). Note que não há *outliers*."
      ],
      "metadata": {
        "id": "BRy38DoJT_gD"
      }
    },
    {
      "cell_type": "code",
      "source": [
        "fig1, axes1 = plt.subplots(nrows=2, ncols=3, figsize=(8,5))\n",
        "df['Tenure'].plot(kind='hist', ax=axes1[0][0], bins=50, color='b')\n",
        "axes1[0][0].set_xlabel('Tenure')\n",
        "axes1[0][0].set_ylabel('Número de ocorrências')\n",
        "df['MonthlyCharges'].plot(kind='hist', ax=axes1[0][1], bins=50, color='b')\n",
        "axes1[0][1].set_xlabel('Monthly Charges')\n",
        "axes1[0][1].set_ylabel('Número de ocorrências')\n",
        "df['TotalCharges'].plot(kind='hist', ax=axes1[0][2], bins=50, color='b')\n",
        "axes1[0][2].set_xlabel('Total Charges')\n",
        "axes1[0][2].set_ylabel('Número de ocorrências')\n",
        "df['Tenure'].plot(kind='box', ax=axes1[1][0], color='b', vert=False)\n",
        "axes1[1][0].set_xlabel('Tenure')\n",
        "df['MonthlyCharges'].plot(kind='box', ax=axes1[1][1], color='b', vert=False)\n",
        "axes1[1][1].set_xlabel('Monthly Charges')\n",
        "df['TotalCharges'].plot(kind='box', ax=axes1[1][2], color='b', vert=False)\n",
        "axes1[1][2].set_xlabel('Total Charges')\n",
        "plt.tight_layout()"
      ],
      "metadata": {
        "colab": {
          "base_uri": "https://localhost:8080/",
          "height": 507
        },
        "id": "Exk21T1cBHOV",
        "outputId": "eb4c6546-2545-425e-9bd8-bef1680fe190"
      },
      "execution_count": 12,
      "outputs": [
        {
          "output_type": "display_data",
          "data": {
            "text/plain": [
              "<Figure size 800x500 with 6 Axes>"
            ],
            "image/png": "[encoded data removed]"
          },
          "metadata": {}
        }
      ]
    },
    {
      "cell_type": "markdown",
      "source": [
        "A matriz de correlação mostrada abaixo evidencia um coeficiente de correlação negativo entre `Tenure` e `Month2MonthContract`, e um positivo entre `Tenure` e `TwoYearContract`, indicando que clientes mais antigos optam por contratos mais longos. Além disso, faz sentido que esse grupo de clientes possua valor total de cobranças maior, visto que estão a mais tempo pagando pelo serviço, e isso é comprovado pela forte correlação emtre `Tenure` e `TotalCharges`."
      ],
      "metadata": {
        "id": "soXDxsV5Uh3U"
      }
    },
    {
      "cell_type": "code",
      "source": [
        "# matriz de correlação\n",
        "df_corr = df.corr()\n",
        "fig2, axes2 = plt.subplots(figsize=(6, 6))\n",
        "sns.heatmap(df_corr, xticklabels=df_corr.columns, yticklabels=df_corr.columns,\n",
        "            linewidths=.4, cmap=\"seismic\", ax=axes2)\n",
        "plt.tight_layout()"
      ],
      "metadata": {
        "colab": {
          "base_uri": "https://localhost:8080/",
          "height": 606
        },
        "id": "0CIPDM1eDkFd",
        "outputId": "03eb7124-e163-431e-d97e-36b6bc2abefc"
      },
      "execution_count": 13,
      "outputs": [
        {
          "output_type": "display_data",
          "data": {
            "text/plain": [
              "<Figure size 600x600 with 2 Axes>"
            ],
            "image/png": "[encoded data removed]"
          },
          "metadata": {}
        }
      ]
    },
    {
      "cell_type": "markdown",
      "source": [
        "Note também que o gênero, representado pela variável `Male`, parece não ter correlação com nehuma das outras variáveis. Por esse motivo, a coluna correspondente será eliminada do *dataset*."
      ],
      "metadata": {
        "id": "jX0r4c2GWxo0"
      }
    },
    {
      "cell_type": "code",
      "source": [
        "df.drop(columns=['Male'], inplace=True)"
      ],
      "metadata": {
        "id": "qg3rtgEaWxZ0"
      },
      "execution_count": 14,
      "outputs": []
    },
    {
      "cell_type": "markdown",
      "source": [
        "Como a variável alvo da nossa análise é `Churn`, vamos verificar seu balanceamento."
      ],
      "metadata": {
        "id": "GX7Xo7zMXJ3l"
      }
    },
    {
      "cell_type": "code",
      "source": [
        "print(f\"Os casos em que há evasão de clientes (Churn == 1) correspondem a {100 * df[df['Churn'] == 1].shape[0] / df.shape[0]:.2f}% dos casos.\")"
      ],
      "metadata": {
        "colab": {
          "base_uri": "https://localhost:8080/"
        },
        "id": "8vvqjKZpX4ew",
        "outputId": "ae4311dd-2f77-466a-c539-3fdade2b346c"
      },
      "execution_count": 15,
      "outputs": [
        {
          "output_type": "stream",
          "name": "stdout",
          "text": [
            "Os casos em que há evasão de clientes (Churn == 1) correspondem a 26.58% dos casos.\n"
          ]
        }
      ]
    },
    {
      "cell_type": "markdown",
      "source": [
        "## Modelo de Machine Learning\n",
        "\n",
        "Feitas as transformações e análises iniciais, iremos separar os dados de treino e de teste e balancear os dados de treino. Tambem será criada uma função que avalia o modelo para os dados de treino, dentro da qual é implementado um *pipeline* com a padronização e a normalização das *features*, seguidas da aplicação do modelo em si. A função retorna os valores médios do *recall* e da AUC obtidos por meio de *cross validation*.\n",
        "\n",
        "Os modelos testados serão *Random Forest Classifier*, *Decision Tree Classifier*, *Stochastic Gradient Descent Classifier*, *Support Vector Classifier*, Regressão Logística, *Extreme Gradient Boosting Classifier* e *Light Gradient Boosting Classifier*.\n"
      ],
      "metadata": {
        "id": "ODsvgGKTaDms"
      }
    },
    {
      "cell_type": "code",
      "source": [
        "X = df.drop(columns=['Churn'])\n",
        "y = df['Churn']\n",
        "X_train, X_test, y_train, y_test = train_test_split(X, y, stratify=y, test_size=0.2)\n",
        "res = RandomUnderSampler()\n",
        "X_train_res, y_train_res = res.fit_resample(X_train, y_train)"
      ],
      "metadata": {
        "id": "_djoYd2uS1i0"
      },
      "execution_count": 16,
      "outputs": []
    },
    {
      "cell_type": "code",
      "source": [
        "def evaluate_model(model, X_train, y_train):\n",
        "  pipeline = make_pipeline(StandardScaler(), MinMaxScaler(), model)\n",
        "  scores_recall = cross_val_score(pipeline, X_train, y_train, scoring='recall')\n",
        "  scores_auc = cross_val_score(pipeline, X_train, y_train, scoring='roc_auc')\n",
        "  return [scores_recall.mean(), scores_auc.mean()]\n",
        "\n",
        "rf = RandomForestClassifier()\n",
        "dt = DecisionTreeClassifier()\n",
        "sgdc = SGDClassifier()\n",
        "svc = SVC()\n",
        "lr = LogisticRegression()\n",
        "xgb = XGBClassifier()\n",
        "lgbm = LGBMClassifier()\n",
        "\n",
        "model_name = []\n",
        "recall = []\n",
        "auc = []\n",
        "for model in [rf, dt, sgdc, svc, lr, xgb, lgbm]:\n",
        "  model_name.append(model.__class__.__name__)\n",
        "  model_scores = evaluate_model(model, X_train_res, y_train_res)\n",
        "  recall.append(model_scores[0])\n",
        "  auc.append(model_scores[1])\n",
        "\n",
        "result_init = pd.DataFrame(index=model_name, data={'recall': recall, 'auc': auc})\n",
        "print(result_init)"
      ],
      "metadata": {
        "colab": {
          "base_uri": "https://localhost:8080/"
        },
        "id": "WUUPsUBdmY9q",
        "outputId": "1ff2f7a2-5a35-4971-d1b3-b686b33c7372"
      },
      "execution_count": 17,
      "outputs": [
        {
          "output_type": "stream",
          "name": "stdout",
          "text": [
            "[LightGBM] [Info] Number of positive: 1196, number of negative: 1196\n",
            "[LightGBM] [Info] Auto-choosing row-wise multi-threading, the overhead of testing was 0.000655 seconds.\n",
            "You can set `force_row_wise=true` to remove the overhead.\n",
            "And if memory is not enough, you can set `force_col_wise=true`.\n",
            "[LightGBM] [Info] Total Bins 624\n",
            "[LightGBM] [Info] Number of data points in the train set: 2392, number of used features: 24\n",
            "[LightGBM] [Info] [binary:BoostFromScore]: pavg=0.500000 -> initscore=0.000000\n",
            "[LightGBM] [Info] Number of positive: 1196, number of negative: 1196\n",
            "[LightGBM] [Info] Auto-choosing row-wise multi-threading, the overhead of testing was 0.000558 seconds.\n",
            "You can set `force_row_wise=true` to remove the overhead.\n",
            "And if memory is not enough, you can set `force_col_wise=true`.\n",
            "[LightGBM] [Info] Total Bins 624\n",
            "[LightGBM] [Info] Number of data points in the train set: 2392, number of used features: 24\n",
            "[LightGBM] [Info] [binary:BoostFromScore]: pavg=0.500000 -> initscore=0.000000\n",
            "[LightGBM] [Info] Number of positive: 1196, number of negative: 1196\n",
            "[LightGBM] [Info] Auto-choosing row-wise multi-threading, the overhead of testing was 0.000506 seconds.\n",
            "You can set `force_row_wise=true` to remove the overhead.\n",
            "And if memory is not enough, you can set `force_col_wise=true`.\n",
            "[LightGBM] [Info] Total Bins 624\n",
            "[LightGBM] [Info] Number of data points in the train set: 2392, number of used features: 24\n",
            "[LightGBM] [Info] [binary:BoostFromScore]: pavg=0.500000 -> initscore=0.000000\n",
            "[LightGBM] [Info] Number of positive: 1196, number of negative: 1196\n",
            "[LightGBM] [Info] Auto-choosing col-wise multi-threading, the overhead of testing was 0.000944 seconds.\n",
            "You can set `force_col_wise=true` to remove the overhead.\n",
            "[LightGBM] [Info] Total Bins 624\n",
            "[LightGBM] [Info] Number of data points in the train set: 2392, number of used features: 24\n",
            "[LightGBM] [Info] [binary:BoostFromScore]: pavg=0.500000 -> initscore=0.000000\n",
            "[LightGBM] [Info] Number of positive: 1196, number of negative: 1196\n",
            "[LightGBM] [Info] Auto-choosing row-wise multi-threading, the overhead of testing was 0.000594 seconds.\n",
            "You can set `force_row_wise=true` to remove the overhead.\n",
            "And if memory is not enough, you can set `force_col_wise=true`.\n",
            "[LightGBM] [Info] Total Bins 624\n",
            "[LightGBM] [Info] Number of data points in the train set: 2392, number of used features: 24\n",
            "[LightGBM] [Info] [binary:BoostFromScore]: pavg=0.500000 -> initscore=0.000000\n",
            "[LightGBM] [Info] Number of positive: 1196, number of negative: 1196\n",
            "[LightGBM] [Info] Auto-choosing row-wise multi-threading, the overhead of testing was 0.000578 seconds.\n",
            "You can set `force_row_wise=true` to remove the overhead.\n",
            "And if memory is not enough, you can set `force_col_wise=true`.\n",
            "[LightGBM] [Info] Total Bins 624\n",
            "[LightGBM] [Info] Number of data points in the train set: 2392, number of used features: 24\n",
            "[LightGBM] [Info] [binary:BoostFromScore]: pavg=0.500000 -> initscore=0.000000\n",
            "[LightGBM] [Info] Number of positive: 1196, number of negative: 1196\n",
            "[LightGBM] [Info] Auto-choosing row-wise multi-threading, the overhead of testing was 0.000598 seconds.\n",
            "You can set `force_row_wise=true` to remove the overhead.\n",
            "And if memory is not enough, you can set `force_col_wise=true`.\n",
            "[LightGBM] [Info] Total Bins 624\n",
            "[LightGBM] [Info] Number of data points in the train set: 2392, number of used features: 24\n",
            "[LightGBM] [Info] [binary:BoostFromScore]: pavg=0.500000 -> initscore=0.000000\n",
            "[LightGBM] [Info] Number of positive: 1196, number of negative: 1196\n",
            "[LightGBM] [Info] Auto-choosing row-wise multi-threading, the overhead of testing was 0.000490 seconds.\n",
            "You can set `force_row_wise=true` to remove the overhead.\n",
            "And if memory is not enough, you can set `force_col_wise=true`.\n",
            "[LightGBM] [Info] Total Bins 624\n",
            "[LightGBM] [Info] Number of data points in the train set: 2392, number of used features: 24\n",
            "[LightGBM] [Info] [binary:BoostFromScore]: pavg=0.500000 -> initscore=0.000000\n",
            "[LightGBM] [Info] Number of positive: 1196, number of negative: 1196\n",
            "[LightGBM] [Info] Auto-choosing row-wise multi-threading, the overhead of testing was 0.000503 seconds.\n",
            "You can set `force_row_wise=true` to remove the overhead.\n",
            "And if memory is not enough, you can set `force_col_wise=true`.\n",
            "[LightGBM] [Info] Total Bins 624\n",
            "[LightGBM] [Info] Number of data points in the train set: 2392, number of used features: 24\n",
            "[LightGBM] [Info] [binary:BoostFromScore]: pavg=0.500000 -> initscore=0.000000\n",
            "[LightGBM] [Info] Number of positive: 1196, number of negative: 1196\n",
            "[LightGBM] [Info] Auto-choosing row-wise multi-threading, the overhead of testing was 0.000574 seconds.\n",
            "You can set `force_row_wise=true` to remove the overhead.\n",
            "And if memory is not enough, you can set `force_col_wise=true`.\n",
            "[LightGBM] [Info] Total Bins 624\n",
            "[LightGBM] [Info] Number of data points in the train set: 2392, number of used features: 24\n",
            "[LightGBM] [Info] [binary:BoostFromScore]: pavg=0.500000 -> initscore=0.000000\n",
            "                          recall       auc\n",
            "RandomForestClassifier  0.767224  0.832302\n",
            "DecisionTreeClassifier  0.696321  0.684751\n",
            "SGDClassifier           0.787291  0.843285\n",
            "SVC                     0.788629  0.833797\n",
            "LogisticRegression      0.797993  0.850696\n",
            "XGBClassifier           0.763880  0.822946\n",
            "LGBMClassifier          0.775251  0.835841\n"
          ]
        }
      ]
    },
    {
      "cell_type": "markdown",
      "source": [
        "A princípio, a Regressão Logítica parece ser o modelo com as melhores métricas. A fim de comparar o efeito do ajuste de hiperparâmetros no *Extreme Gradient Boosting* (XGB), é realizado o procedimento conforme sugerido em https://www.analyticsvidhya.com/blog/2016/03/complete-guide-parameter-tuning-xgboost-with-codes-python/. Primeiro, com `learning_rate`fixo e igual a `0.1`, é escolhido o valor de `n_estimators`, depois é feita uma *grid search* para `max_depth` e `min_child_weight`. Em seguida, escolhe-se `gamma`e realiza-se outra *grid search* para `subsample` e `colsample_bytree`. Por último, escolhe-se o melhor valor para o `learning_rate`. A métrica para todas essas otimizações é o ***recall***, que no nosso exemplo se refere aos casos de evasão corretamente identificados entre todos os casos de evasão que de fato ocorrem.\n",
        "\n"
      ],
      "metadata": {
        "id": "KT8njx4wc9Q3"
      }
    },
    {
      "cell_type": "code",
      "source": [
        "# encontrando n_estimators\n",
        "xgb = XGBClassifier(\n",
        "    learning_rate=0.1,\n",
        "    n_estimators=50,\n",
        "    max_depth=5,\n",
        "    min_child_weight=1,\n",
        "    gamma=0,\n",
        "    subsample=0.8,\n",
        "    colsample_bytree=0.8,\n",
        "    objective='binary:logistic',\n",
        "    seed=27)\n",
        "n_estimators = range(25, 45, 1)\n",
        "param_grid1 = dict(n_estimators=n_estimators)\n",
        "kfold = StratifiedKFold(n_splits=10, shuffle=True)\n",
        "grid_search1 = GridSearchCV(estimator=xgb, param_grid=param_grid1, scoring='recall', n_jobs=-1, cv=kfold)\n",
        "grid_result1 = grid_search1.fit(X_train_res, y_train_res)\n",
        "\n",
        "print(f\"Melhor resultado: Recall = {grid_result1.best_score_:.4f} com n_estimators = {grid_result1.best_params_['n_estimators']}.\")"
      ],
      "metadata": {
        "colab": {
          "base_uri": "https://localhost:8080/"
        },
        "id": "qG8f2Wg5CubH",
        "outputId": "81776f56-4d22-4f82-ecd7-5f679dae3c61"
      },
      "execution_count": 18,
      "outputs": [
        {
          "output_type": "stream",
          "name": "stdout",
          "text": [
            "Melhor resultado: Recall = 0.8087 com n_estimators = 25.\n"
          ]
        }
      ]
    },
    {
      "cell_type": "code",
      "source": [
        "# encontrando max_depth e min_child_weight\n",
        "xgb = XGBClassifier(\n",
        "    learning_rate=0.1,\n",
        "    n_estimators=grid_result1.best_params_['n_estimators'],\n",
        "    max_depth=5,\n",
        "    min_child_weight=1,\n",
        "    gamma=0,\n",
        "    subsample=0.8,\n",
        "    colsample_bytree=0.8,\n",
        "    objective='binary:logistic',\n",
        "    seed=27)\n",
        "max_depth = range(0, 6, 1)\n",
        "min_child_weight = range(0, 6, 1)\n",
        "param_grid2 = dict(max_depth=max_depth, min_child_weight=min_child_weight)\n",
        "grid_search2 = GridSearchCV(estimator=xgb, param_grid=param_grid2, scoring='recall', n_jobs=-1, cv=kfold)\n",
        "grid_result2 = grid_search2.fit(X_train_res, y_train_res)\n",
        "\n",
        "print(f\"Melhor resultado: Recall = {grid_result2.best_score_:.4f} com max_depth = {grid_result2.best_params_['max_depth']} e min_child_weight = {grid_result2.best_params_['min_child_weight']}.\")"
      ],
      "metadata": {
        "colab": {
          "base_uri": "https://localhost:8080/"
        },
        "id": "SLehn15WN-0W",
        "outputId": "4e5170f3-f733-4d55-95e0-60c75016c1d7"
      },
      "execution_count": 19,
      "outputs": [
        {
          "output_type": "stream",
          "name": "stdout",
          "text": [
            "Melhor resultado: Recall = 0.8529 com max_depth = 1 e min_child_weight = 0.\n"
          ]
        }
      ]
    },
    {
      "cell_type": "code",
      "source": [
        "# encontrando gamma\n",
        "xgb = XGBClassifier(\n",
        "    learning_rate=0.1,\n",
        "    n_estimators=grid_result1.best_params_['n_estimators'],\n",
        "    max_depth=grid_result2.best_params_['max_depth'],\n",
        "    min_child_weight=grid_result2.best_params_['min_child_weight'],\n",
        "    gamma=0,\n",
        "    subsample=0.8,\n",
        "    colsample_bytree=0.8,\n",
        "    objective='binary:logistic',\n",
        "    seed=27)\n",
        "\n",
        "gamma = [i/10.0 for i in range(0,5)]\n",
        "param_grid3 = dict(gamma=gamma)\n",
        "grid_search3 = GridSearchCV(estimator=xgb, param_grid=param_grid3, scoring='recall', n_jobs=-1, cv=kfold)\n",
        "grid_result3 = grid_search3.fit(X_train_res, y_train_res)\n",
        "\n",
        "print(f\"Melhor resultado: Recall = {grid_result3.best_score_:.4f} com gamma = {grid_result3.best_params_['gamma']}.\")"
      ],
      "metadata": {
        "colab": {
          "base_uri": "https://localhost:8080/"
        },
        "id": "LYFlFlwMULlN",
        "outputId": "6f447107-f374-4bd8-ea32-bf7b04fd3d76"
      },
      "execution_count": 20,
      "outputs": [
        {
          "output_type": "stream",
          "name": "stdout",
          "text": [
            "Melhor resultado: Recall = 0.8501 com gamma = 0.0.\n"
          ]
        }
      ]
    },
    {
      "cell_type": "code",
      "source": [
        "# encontrando subsample e colsample_bytree\n",
        "xgb = XGBClassifier(\n",
        "    learning_rate=0.1,\n",
        "    n_estimators=grid_result1.best_params_['n_estimators'],\n",
        "    max_depth=grid_result2.best_params_['max_depth'],\n",
        "    min_child_weight=grid_result2.best_params_['min_child_weight'],\n",
        "    gamma=grid_result3.best_params_['gamma'],\n",
        "    subsample=0.8,\n",
        "    colsample_bytree=0.8,\n",
        "    objective= 'binary:logistic',\n",
        "    seed=27)\n",
        "subsample = [i/100.0 for i in range(75,90,5)]\n",
        "colsample_bytree = [i/100.0 for i in range(75,90,5)]\n",
        "param_grid4 = dict(subsample=subsample, colsample_bytree=colsample_bytree)\n",
        "grid_search4 = GridSearchCV(estimator=xgb, param_grid=param_grid4, scoring='recall', n_jobs=-1, cv=kfold)\n",
        "grid_result4 = grid_search4.fit(X_train_res, y_train_res)\n",
        "\n",
        "print(f\"Melhor resultado: Recall = {grid_result4.best_score_:.4f} com subsample = {grid_result4.best_params_['subsample']} e colsample_bytree = {grid_result4.best_params_['colsample_bytree']}.\")"
      ],
      "metadata": {
        "colab": {
          "base_uri": "https://localhost:8080/"
        },
        "id": "ngD_G8MwK80M",
        "outputId": "5e6c0446-1c12-435d-fa10-3a2232ee561f"
      },
      "execution_count": 21,
      "outputs": [
        {
          "output_type": "stream",
          "name": "stdout",
          "text": [
            "Melhor resultado: Recall = 0.8535 com subsample = 0.75 e colsample_bytree = 0.75.\n"
          ]
        }
      ]
    },
    {
      "cell_type": "code",
      "source": [
        "# encontrando learning_rate\n",
        "xgb = XGBClassifier(\n",
        "    learning_rate=0.1,\n",
        "    n_estimators=grid_result1.best_params_['n_estimators'],\n",
        "    max_depth=grid_result2.best_params_['max_depth'],\n",
        "    min_child_weight=grid_result2.best_params_['min_child_weight'],\n",
        "    gamma=grid_result3.best_params_['gamma'],\n",
        "    subsample=grid_result4.best_params_['subsample'],\n",
        "    colsample_bytree=grid_result4.best_params_['colsample_bytree'],\n",
        "    objective= 'binary:logistic',\n",
        "    seed=27)\n",
        "learning_rate = [i/100000.0 for i in range(0,20,1)]\n",
        "param_grid5 = dict(learning_rate=learning_rate)\n",
        "grid_search5 = GridSearchCV(estimator=xgb, param_grid=param_grid5, scoring='recall', n_jobs=-1, cv=kfold)\n",
        "grid_result5 = grid_search5.fit(X_train_res, y_train_res)\n",
        "\n",
        "print(f\"Melhor resultado: Recall = {grid_result5.best_score_:.4f} com learning_rate = {grid_result5.best_params_['learning_rate']}.\")"
      ],
      "metadata": {
        "colab": {
          "base_uri": "https://localhost:8080/"
        },
        "id": "2dGdCCymWeza",
        "outputId": "f658068e-a41e-4ed3-ff25-655c2aa4805d"
      },
      "execution_count": 22,
      "outputs": [
        {
          "output_type": "stream",
          "name": "stdout",
          "text": [
            "Melhor resultado: Recall = 0.8863 com learning_rate = 6e-05.\n"
          ]
        }
      ]
    },
    {
      "cell_type": "markdown",
      "source": [
        "Ultilizando os hiperparâmetros encontrados, implementamos um novo modelo XGB."
      ],
      "metadata": {
        "id": "l89y5lOqxuU0"
      }
    },
    {
      "cell_type": "code",
      "source": [
        "xgb = XGBClassifier(\n",
        "    learning_rate=grid_result5.best_params_['learning_rate'],\n",
        "    n_estimators=grid_result1.best_params_['n_estimators'],\n",
        "    max_depth=grid_result2.best_params_['max_depth'],\n",
        "    min_child_weight=grid_result2.best_params_['min_child_weight'],\n",
        "    gamma=grid_result3.best_params_['gamma'],\n",
        "    subsample=grid_result4.best_params_['subsample'],\n",
        "    colsample_bytree=grid_result4.best_params_['colsample_bytree'],\n",
        "    objective= 'binary:logistic',\n",
        "    seed=27)\n",
        "\n",
        "final_model = xgb.fit(X_train_res, y_train_res)\n",
        "X_test = StandardScaler().fit_transform(X_test)\n",
        "X_test = MinMaxScaler().fit_transform(X_test)\n",
        "y_pred = final_model.predict(X_test)"
      ],
      "metadata": {
        "id": "ggZNjSS1VE6p"
      },
      "execution_count": 23,
      "outputs": []
    },
    {
      "cell_type": "code",
      "source": [
        "cf_matrix = confusion_matrix(y_test, y_pred, normalize='true')\n",
        "fig3, ax3 = plt.subplots(figsize=(3, 3))\n",
        "sns.heatmap(cf_matrix, annot=True, ax=ax3,\n",
        "            fmt='.2f', cmap='Blues', cbar=True)\n",
        "ax3.set_xlabel(\"Previsto\")\n",
        "ax3.set_ylabel(\"Real\")\n",
        "\n",
        "plt.show()\n",
        "\n",
        "report = classification_report(y_test, y_pred, digits=4)\n",
        "recall_after = recall_score(y_test, y_pred)\n",
        "aoc_after = roc_auc_score(y_test, y_pred)\n",
        "print(f\"\\nRelatório de Classificação:\\n {report}\\n\")\n",
        "print(f\"AUC ROC: {aoc_after:.4f}\\n\")"
      ],
      "metadata": {
        "colab": {
          "base_uri": "https://localhost:8080/",
          "height": 554
        },
        "id": "SW-zcahkV_35",
        "outputId": "f3a75c27-55ec-4b03-98a2-bf9c5e3d0547"
      },
      "execution_count": 24,
      "outputs": [
        {
          "output_type": "display_data",
          "data": {
            "text/plain": [
              "<Figure size 300x300 with 2 Axes>"
            ],
            "image/png": "[encoded data removed]"
          },
          "metadata": {}
        },
        {
          "output_type": "stream",
          "name": "stdout",
          "text": [
            "\n",
            "Relatório de Classificação:\n",
            "               precision    recall  f1-score   support\n",
            "\n",
            "       False     0.9299    0.5653    0.7032      1033\n",
            "        True     0.4236    0.8824    0.5724       374\n",
            "\n",
            "    accuracy                         0.6496      1407\n",
            "   macro avg     0.6768    0.7238    0.6378      1407\n",
            "weighted avg     0.7954    0.6496    0.6684      1407\n",
            "\n",
            "\n",
            "AUC ROC: 0.7238\n",
            "\n"
          ]
        }
      ]
    },
    {
      "cell_type": "code",
      "source": [
        "print(f\"Antes da otimização de hiperparâmetros (com conjunto de treino):\")\n",
        "print(f\"Recall: {result_init[result_init.index == 'XGBClassifier']['recall'].values[0]:.4f}\")\n",
        "print(f\"AOC   : {result_init[result_init.index == 'XGBClassifier']['auc'].values[0]:.4f}\")\n",
        "\n",
        "print(f\"\\nDepois da otimização de hiperparâmetros (com conjunto de teste):\")\n",
        "print(f\"Recall: {recall_after:.4f}\")\n",
        "print(f\"AOC   : {aoc_after:.4f}\")"
      ],
      "metadata": {
        "colab": {
          "base_uri": "https://localhost:8080/"
        },
        "id": "x5SsQTp0yNBs",
        "outputId": "88b1ed54-f7a2-48f5-f040-084e732bb427"
      },
      "execution_count": 25,
      "outputs": [
        {
          "output_type": "stream",
          "name": "stdout",
          "text": [
            "Antes da otimização de hiperparâmetros (com conjunto de treino):\n",
            "Recall: 0.7639\n",
            "AOC   : 0.8229\n",
            "\n",
            "Depois da otimização de hiperparâmetros (com conjunto de teste):\n",
            "Recall: 0.8824\n",
            "AOC   : 0.7238\n"
          ]
        }
      ]
    },
    {
      "cell_type": "markdown",
      "source": [
        "## Conclusões\n",
        "\n",
        "Um análise preliminar dos dados indicou muitas possiblidades de transformações que, quando implementadas, reduziram bastante o tamanho do *dataset* e tornaram as informações mais adequadas para um modelo de ML, além de evidenciarem a presença de valores faltantes, até então não identificados. Vários modelos foram implementados, e o que apresentou melhor *recall* inicialmente foi a Regressão Logística. No entanto, após uma otmimização de hiperparâmetros, o XGB apresentou melhor desempenho em relação a essa métrica. Como o processo de otimização foi feito a fim de maximizar o *recall*, houve uma diminuição do valor da AOC, evidenciando a necessidade de uma solução de compromisso para o modelo e a importância de se definir a métrica de interesse para um problema.\n",
        "\n"
      ],
      "metadata": {
        "id": "tYObEZj14AIr"
      }
    }
  ]
}